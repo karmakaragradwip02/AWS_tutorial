{
 "cells": [
  {
   "cell_type": "code",
   "execution_count": 1,
   "metadata": {},
   "outputs": [],
   "source": [
    "import boto3"
   ]
  },
  {
   "cell_type": "code",
   "execution_count": 2,
   "metadata": {},
   "outputs": [],
   "source": [
    "s3 = boto3.client('s3', region_name='ap-south-1')"
   ]
  },
  {
   "cell_type": "code",
   "execution_count": 3,
   "metadata": {},
   "outputs": [],
   "source": [
    "bucket_name = 'tinybertaws'"
   ]
  },
  {
   "cell_type": "code",
   "execution_count": 4,
   "metadata": {},
   "outputs": [],
   "source": [
    "def create_bucket(bucket_name, region='ap-south-1'): \n",
    "    try:\n",
    "        resp = s3.list_buckets()\n",
    "        buckets = [buck['Name'] for buck in resp['Buckets']]\n",
    "        if(bucket_name not in buckets):\n",
    "            s3.create_bucket(\n",
    "                Bucket=bucket_name,\n",
    "                CreateBucketConfiguration={'LocationConstraint': region}\n",
    "            )\n",
    "            print(f\"Bucket '{bucket_name}' created successfully in region '{region}'.\")\n",
    "        else:\n",
    "            print(f\"Bucket '{bucket_name}' is already present.\")\n",
    "    except Exception as e:\n",
    "        print(f\"Error: {e}\")"
   ]
  },
  {
   "cell_type": "code",
   "execution_count": 5,
   "metadata": {},
   "outputs": [
    {
     "name": "stdout",
     "output_type": "stream",
     "text": [
      "Bucket 'tinybertaws' is already present.\n"
     ]
    }
   ],
   "source": [
    "create_bucket('tinybertaws', 'ap-south-1')"
   ]
  },
  {
   "cell_type": "markdown",
   "metadata": {},
   "source": [
    "## Upload Model"
   ]
  },
  {
   "cell_type": "code",
   "execution_count": 6,
   "metadata": {},
   "outputs": [],
   "source": [
    "import os"
   ]
  },
  {
   "cell_type": "code",
   "execution_count": 7,
   "metadata": {},
   "outputs": [],
   "source": [
    "def upload_directory(directory_path, s3_prefix, bucket_name):\n",
    "    for root, dirs, files in os.walk(directory_path):\n",
    "        for file in files:\n",
    "            file_path = os.path.join(root, file).replace(\"\\\\\", \"/\")\n",
    "            relpath = os.path.relpath(file_path, directory_path)\n",
    "            s3_key = os.path.join(s3_prefix, relpath).replace(\"\\\\\", \"/\")\n",
    "            s3.upload_file(file_path, bucket_name, s3_key)\n",
    "            print(f'The file name {file_path} in folder {root} is uploaded on S3 bucket named as {bucket_name}') "
   ]
  },
  {
   "cell_type": "code",
   "execution_count": 8,
   "metadata": {},
   "outputs": [
    {
     "name": "stdout",
     "output_type": "stream",
     "text": [
      "The file name vit-human-pose-classification/config.json in folder vit-human-pose-classification is uploaded on S3 bucket named as tinybertaws\n",
      "The file name vit-human-pose-classification/model.safetensors in folder vit-human-pose-classification is uploaded on S3 bucket named as tinybertaws\n",
      "The file name vit-human-pose-classification/preprocessor_config.json in folder vit-human-pose-classification is uploaded on S3 bucket named as tinybertaws\n",
      "The file name vit-human-pose-classification/training_args.bin in folder vit-human-pose-classification is uploaded on S3 bucket named as tinybertaws\n"
     ]
    }
   ],
   "source": [
    "upload_directory('vit-human-pose-classification', 'mlmodel-aws/vit-human-pose-classification',bucket_name)"
   ]
  },
  {
   "cell_type": "code",
   "execution_count": 9,
   "metadata": {},
   "outputs": [
    {
     "name": "stdout",
     "output_type": "stream",
     "text": [
      "The file name train_dir/checkpoint-1260/config.json in folder train_dir\\checkpoint-1260 is uploaded on S3 bucket named as tinybertaws\n",
      "The file name train_dir/checkpoint-1260/model.safetensors in folder train_dir\\checkpoint-1260 is uploaded on S3 bucket named as tinybertaws\n",
      "The file name train_dir/checkpoint-1260/optimizer.pt in folder train_dir\\checkpoint-1260 is uploaded on S3 bucket named as tinybertaws\n",
      "The file name train_dir/checkpoint-1260/preprocessor_config.json in folder train_dir\\checkpoint-1260 is uploaded on S3 bucket named as tinybertaws\n",
      "The file name train_dir/checkpoint-1260/rng_state.pth in folder train_dir\\checkpoint-1260 is uploaded on S3 bucket named as tinybertaws\n",
      "The file name train_dir/checkpoint-1260/scheduler.pt in folder train_dir\\checkpoint-1260 is uploaded on S3 bucket named as tinybertaws\n",
      "The file name train_dir/checkpoint-1260/trainer_state.json in folder train_dir\\checkpoint-1260 is uploaded on S3 bucket named as tinybertaws\n",
      "The file name train_dir/checkpoint-1260/training_args.bin in folder train_dir\\checkpoint-1260 is uploaded on S3 bucket named as tinybertaws\n",
      "The file name train_dir/checkpoint-1890/config.json in folder train_dir\\checkpoint-1890 is uploaded on S3 bucket named as tinybertaws\n",
      "The file name train_dir/checkpoint-1890/model.safetensors in folder train_dir\\checkpoint-1890 is uploaded on S3 bucket named as tinybertaws\n",
      "The file name train_dir/checkpoint-1890/optimizer.pt in folder train_dir\\checkpoint-1890 is uploaded on S3 bucket named as tinybertaws\n",
      "The file name train_dir/checkpoint-1890/preprocessor_config.json in folder train_dir\\checkpoint-1890 is uploaded on S3 bucket named as tinybertaws\n",
      "The file name train_dir/checkpoint-1890/rng_state.pth in folder train_dir\\checkpoint-1890 is uploaded on S3 bucket named as tinybertaws\n",
      "The file name train_dir/checkpoint-1890/scheduler.pt in folder train_dir\\checkpoint-1890 is uploaded on S3 bucket named as tinybertaws\n",
      "The file name train_dir/checkpoint-1890/trainer_state.json in folder train_dir\\checkpoint-1890 is uploaded on S3 bucket named as tinybertaws\n",
      "The file name train_dir/checkpoint-1890/training_args.bin in folder train_dir\\checkpoint-1890 is uploaded on S3 bucket named as tinybertaws\n",
      "The file name train_dir/checkpoint-2520/config.json in folder train_dir\\checkpoint-2520 is uploaded on S3 bucket named as tinybertaws\n",
      "The file name train_dir/checkpoint-2520/model.safetensors in folder train_dir\\checkpoint-2520 is uploaded on S3 bucket named as tinybertaws\n",
      "The file name train_dir/checkpoint-2520/optimizer.pt in folder train_dir\\checkpoint-2520 is uploaded on S3 bucket named as tinybertaws\n",
      "The file name train_dir/checkpoint-2520/preprocessor_config.json in folder train_dir\\checkpoint-2520 is uploaded on S3 bucket named as tinybertaws\n",
      "The file name train_dir/checkpoint-2520/rng_state.pth in folder train_dir\\checkpoint-2520 is uploaded on S3 bucket named as tinybertaws\n",
      "The file name train_dir/checkpoint-2520/scheduler.pt in folder train_dir\\checkpoint-2520 is uploaded on S3 bucket named as tinybertaws\n",
      "The file name train_dir/checkpoint-2520/trainer_state.json in folder train_dir\\checkpoint-2520 is uploaded on S3 bucket named as tinybertaws\n",
      "The file name train_dir/checkpoint-2520/training_args.bin in folder train_dir\\checkpoint-2520 is uploaded on S3 bucket named as tinybertaws\n",
      "The file name train_dir/checkpoint-3150/config.json in folder train_dir\\checkpoint-3150 is uploaded on S3 bucket named as tinybertaws\n",
      "The file name train_dir/checkpoint-3150/model.safetensors in folder train_dir\\checkpoint-3150 is uploaded on S3 bucket named as tinybertaws\n",
      "The file name train_dir/checkpoint-3150/optimizer.pt in folder train_dir\\checkpoint-3150 is uploaded on S3 bucket named as tinybertaws\n",
      "The file name train_dir/checkpoint-3150/preprocessor_config.json in folder train_dir\\checkpoint-3150 is uploaded on S3 bucket named as tinybertaws\n",
      "The file name train_dir/checkpoint-3150/rng_state.pth in folder train_dir\\checkpoint-3150 is uploaded on S3 bucket named as tinybertaws\n",
      "The file name train_dir/checkpoint-3150/scheduler.pt in folder train_dir\\checkpoint-3150 is uploaded on S3 bucket named as tinybertaws\n",
      "The file name train_dir/checkpoint-3150/trainer_state.json in folder train_dir\\checkpoint-3150 is uploaded on S3 bucket named as tinybertaws\n",
      "The file name train_dir/checkpoint-3150/training_args.bin in folder train_dir\\checkpoint-3150 is uploaded on S3 bucket named as tinybertaws\n",
      "The file name train_dir/checkpoint-630/config.json in folder train_dir\\checkpoint-630 is uploaded on S3 bucket named as tinybertaws\n",
      "The file name train_dir/checkpoint-630/model.safetensors in folder train_dir\\checkpoint-630 is uploaded on S3 bucket named as tinybertaws\n",
      "The file name train_dir/checkpoint-630/optimizer.pt in folder train_dir\\checkpoint-630 is uploaded on S3 bucket named as tinybertaws\n",
      "The file name train_dir/checkpoint-630/preprocessor_config.json in folder train_dir\\checkpoint-630 is uploaded on S3 bucket named as tinybertaws\n",
      "The file name train_dir/checkpoint-630/rng_state.pth in folder train_dir\\checkpoint-630 is uploaded on S3 bucket named as tinybertaws\n",
      "The file name train_dir/checkpoint-630/scheduler.pt in folder train_dir\\checkpoint-630 is uploaded on S3 bucket named as tinybertaws\n",
      "The file name train_dir/checkpoint-630/trainer_state.json in folder train_dir\\checkpoint-630 is uploaded on S3 bucket named as tinybertaws\n",
      "The file name train_dir/checkpoint-630/training_args.bin in folder train_dir\\checkpoint-630 is uploaded on S3 bucket named as tinybertaws\n",
      "The file name train_dir/runs/Jan22_06-22-47_b3877880846d/events.out.tfevents.1737526989.b3877880846d.31.0 in folder train_dir\\runs\\Jan22_06-22-47_b3877880846d is uploaded on S3 bucket named as tinybertaws\n",
      "The file name train_dir/runs/Jan22_06-28-59_b3877880846d/events.out.tfevents.1737527340.b3877880846d.161.0 in folder train_dir\\runs\\Jan22_06-28-59_b3877880846d is uploaded on S3 bucket named as tinybertaws\n",
      "The file name train_dir/runs/Jan22_06-30-45_b3877880846d/events.out.tfevents.1737527446.b3877880846d.221.0 in folder train_dir\\runs\\Jan22_06-30-45_b3877880846d is uploaded on S3 bucket named as tinybertaws\n",
      "The file name train_dir/runs/Jan22_06-35-35_b3877880846d/events.out.tfevents.1737527735.b3877880846d.307.0 in folder train_dir\\runs\\Jan22_06-35-35_b3877880846d is uploaded on S3 bucket named as tinybertaws\n",
      "The file name train_dir/runs/Jan22_06-35-35_b3877880846d/events.out.tfevents.1737528965.b3877880846d.307.1 in folder train_dir\\runs\\Jan22_06-35-35_b3877880846d is uploaded on S3 bucket named as tinybertaws\n"
     ]
    }
   ],
   "source": [
    "upload_directory('train_dir', 'checkpoints-aws/poseclf',bucket_name)"
   ]
  }
 ],
 "metadata": {
  "kernelspec": {
   "display_name": "awstut",
   "language": "python",
   "name": "python3"
  },
  "language_info": {
   "codemirror_mode": {
    "name": "ipython",
    "version": 3
   },
   "file_extension": ".py",
   "mimetype": "text/x-python",
   "name": "python",
   "nbconvert_exporter": "python",
   "pygments_lexer": "ipython3",
   "version": "3.9.20"
  }
 },
 "nbformat": 4,
 "nbformat_minor": 2
}
