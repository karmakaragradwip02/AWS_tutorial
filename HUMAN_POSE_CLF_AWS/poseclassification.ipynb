{
 "cells": [
  {
   "cell_type": "code",
   "execution_count": 1,
   "metadata": {
    "_cell_guid": "b1076dfc-b9ad-4769-8c92-a6c4dae69d19",
    "_uuid": "8f2839f25d086af736a60e9eeb907d3b93b6e0e5",
    "execution": {
     "iopub.execute_input": "2025-01-22T06:35:20.680744Z",
     "iopub.status.busy": "2025-01-22T06:35:20.680426Z",
     "iopub.status.idle": "2025-01-22T06:35:21.010369Z",
     "shell.execute_reply": "2025-01-22T06:35:21.009582Z",
     "shell.execute_reply.started": "2025-01-22T06:35:20.680708Z"
    },
    "trusted": true
   },
   "outputs": [],
   "source": [
    "import numpy as np\n",
    "import pandas as pd \n",
    "import os\n",
    "import warnings\n",
    "warnings.filterwarnings('ignore')\n",
    "os.environ[\"WANDB_DISABLED\"] = \"true\"\n",
    "for dirname, _, filenames in os.walk('/kaggle/input'):\n",
    "    for filename in filenames:\n",
    "        print(os.path.join(dirname, filename))"
   ]
  },
  {
   "cell_type": "code",
   "execution_count": 2,
   "metadata": {
    "execution": {
     "iopub.execute_input": "2025-01-22T06:35:21.011678Z",
     "iopub.status.busy": "2025-01-22T06:35:21.011315Z",
     "iopub.status.idle": "2025-01-22T06:35:21.015642Z",
     "shell.execute_reply": "2025-01-22T06:35:21.014588Z",
     "shell.execute_reply.started": "2025-01-22T06:35:21.011653Z"
    },
    "trusted": true
   },
   "outputs": [],
   "source": [
    "import warnings\n",
    "warnings.filterwarnings('ignore')"
   ]
  },
  {
   "cell_type": "code",
   "execution_count": 3,
   "metadata": {
    "execution": {
     "iopub.execute_input": "2025-01-22T06:35:21.018441Z",
     "iopub.status.busy": "2025-01-22T06:35:21.018110Z",
     "iopub.status.idle": "2025-01-22T06:35:23.288131Z",
     "shell.execute_reply": "2025-01-22T06:35:23.287376Z",
     "shell.execute_reply.started": "2025-01-22T06:35:21.018413Z"
    },
    "trusted": true
   },
   "outputs": [],
   "source": [
    "from datasets import load_dataset\n",
    "\n",
    "dataset = load_dataset(\"Bingsu/Human_Action_Recognition\", split='train')"
   ]
  },
  {
   "cell_type": "code",
   "execution_count": 4,
   "metadata": {
    "execution": {
     "iopub.execute_input": "2025-01-22T06:35:23.289630Z",
     "iopub.status.busy": "2025-01-22T06:35:23.289237Z",
     "iopub.status.idle": "2025-01-22T06:35:23.312450Z",
     "shell.execute_reply": "2025-01-22T06:35:23.311639Z",
     "shell.execute_reply.started": "2025-01-22T06:35:23.289602Z"
    },
    "trusted": true
   },
   "outputs": [
    {
     "data": {
      "text/plain": [
       "DatasetDict({\n",
       "    train: Dataset({\n",
       "        features: ['image', 'labels'],\n",
       "        num_rows: 10080\n",
       "    })\n",
       "    test: Dataset({\n",
       "        features: ['image', 'labels'],\n",
       "        num_rows: 2520\n",
       "    })\n",
       "})"
      ]
     },
     "execution_count": 4,
     "metadata": {},
     "output_type": "execute_result"
    }
   ],
   "source": [
    "dataset = dataset.train_test_split(test_size=0.2)\n",
    "dataset"
   ]
  },
  {
   "cell_type": "code",
   "execution_count": 5,
   "metadata": {
    "execution": {
     "iopub.execute_input": "2025-01-22T06:35:23.313217Z",
     "iopub.status.busy": "2025-01-22T06:35:23.312987Z",
     "iopub.status.idle": "2025-01-22T06:35:23.322540Z",
     "shell.execute_reply": "2025-01-22T06:35:23.321645Z",
     "shell.execute_reply.started": "2025-01-22T06:35:23.313195Z"
    },
    "trusted": true
   },
   "outputs": [],
   "source": [
    "labels = dataset['train'].features['labels'].names"
   ]
  },
  {
   "cell_type": "code",
   "execution_count": 6,
   "metadata": {
    "execution": {
     "iopub.execute_input": "2025-01-22T06:35:23.323793Z",
     "iopub.status.busy": "2025-01-22T06:35:23.323025Z",
     "iopub.status.idle": "2025-01-22T06:35:23.340969Z",
     "shell.execute_reply": "2025-01-22T06:35:23.340301Z",
     "shell.execute_reply.started": "2025-01-22T06:35:23.323764Z"
    },
    "trusted": true
   },
   "outputs": [
    {
     "data": {
      "text/plain": [
       "['calling',\n",
       " 'clapping',\n",
       " 'cycling',\n",
       " 'dancing',\n",
       " 'drinking',\n",
       " 'eating',\n",
       " 'fighting',\n",
       " 'hugging',\n",
       " 'laughing',\n",
       " 'listening_to_music',\n",
       " 'running',\n",
       " 'sitting',\n",
       " 'sleeping',\n",
       " 'texting',\n",
       " 'using_laptop']"
      ]
     },
     "execution_count": 6,
     "metadata": {},
     "output_type": "execute_result"
    }
   ],
   "source": [
    "labels"
   ]
  },
  {
   "cell_type": "code",
   "execution_count": 7,
   "metadata": {
    "execution": {
     "iopub.execute_input": "2025-01-22T06:35:23.341700Z",
     "iopub.status.busy": "2025-01-22T06:35:23.341472Z",
     "iopub.status.idle": "2025-01-22T06:35:23.356246Z",
     "shell.execute_reply": "2025-01-22T06:35:23.355364Z",
     "shell.execute_reply.started": "2025-01-22T06:35:23.341678Z"
    },
    "trusted": true
   },
   "outputs": [],
   "source": [
    "label2id, id2label = dict(), dict()\n",
    "for i, label in enumerate(labels):\n",
    "    label2id[label] = i\n",
    "    id2label[i] = label"
   ]
  },
  {
   "cell_type": "code",
   "execution_count": 8,
   "metadata": {
    "execution": {
     "iopub.execute_input": "2025-01-22T06:35:23.357329Z",
     "iopub.status.busy": "2025-01-22T06:35:23.357032Z",
     "iopub.status.idle": "2025-01-22T06:35:23.369665Z",
     "shell.execute_reply": "2025-01-22T06:35:23.368975Z",
     "shell.execute_reply.started": "2025-01-22T06:35:23.357279Z"
    },
    "trusted": true
   },
   "outputs": [
    {
     "data": {
      "text/plain": [
       "{0: 'calling',\n",
       " 1: 'clapping',\n",
       " 2: 'cycling',\n",
       " 3: 'dancing',\n",
       " 4: 'drinking',\n",
       " 5: 'eating',\n",
       " 6: 'fighting',\n",
       " 7: 'hugging',\n",
       " 8: 'laughing',\n",
       " 9: 'listening_to_music',\n",
       " 10: 'running',\n",
       " 11: 'sitting',\n",
       " 12: 'sleeping',\n",
       " 13: 'texting',\n",
       " 14: 'using_laptop'}"
      ]
     },
     "execution_count": 8,
     "metadata": {},
     "output_type": "execute_result"
    }
   ],
   "source": [
    "id2label"
   ]
  },
  {
   "cell_type": "code",
   "execution_count": 9,
   "metadata": {
    "execution": {
     "iopub.execute_input": "2025-01-22T06:35:23.370780Z",
     "iopub.status.busy": "2025-01-22T06:35:23.370472Z",
     "iopub.status.idle": "2025-01-22T06:35:23.384095Z",
     "shell.execute_reply": "2025-01-22T06:35:23.383507Z",
     "shell.execute_reply.started": "2025-01-22T06:35:23.370726Z"
    },
    "trusted": true
   },
   "outputs": [
    {
     "data": {
      "text/plain": [
       "{0: 'calling',\n",
       " 1: 'clapping',\n",
       " 2: 'cycling',\n",
       " 3: 'dancing',\n",
       " 4: 'drinking',\n",
       " 5: 'eating',\n",
       " 6: 'fighting',\n",
       " 7: 'hugging',\n",
       " 8: 'laughing',\n",
       " 9: 'listening_to_music',\n",
       " 10: 'running',\n",
       " 11: 'sitting',\n",
       " 12: 'sleeping',\n",
       " 13: 'texting',\n",
       " 14: 'using_laptop'}"
      ]
     },
     "execution_count": 9,
     "metadata": {},
     "output_type": "execute_result"
    }
   ],
   "source": [
    "id2label"
   ]
  },
  {
   "cell_type": "code",
   "execution_count": 10,
   "metadata": {
    "execution": {
     "iopub.execute_input": "2025-01-22T06:35:23.385066Z",
     "iopub.status.busy": "2025-01-22T06:35:23.384826Z",
     "iopub.status.idle": "2025-01-22T06:35:29.167873Z",
     "shell.execute_reply": "2025-01-22T06:35:29.167169Z",
     "shell.execute_reply.started": "2025-01-22T06:35:23.385047Z"
    },
    "trusted": true
   },
   "outputs": [],
   "source": [
    "from transformers import AutoImageProcessor\n",
    "model_ckpt = \"google/vit-base-patch16-224-in21k\"\n",
    "#model_ckpt = \"microsoft/swinv2-tiny-patch4-window16-256\""
   ]
  },
  {
   "cell_type": "code",
   "execution_count": 11,
   "metadata": {
    "execution": {
     "iopub.execute_input": "2025-01-22T06:35:29.169238Z",
     "iopub.status.busy": "2025-01-22T06:35:29.168718Z",
     "iopub.status.idle": "2025-01-22T06:35:29.592375Z",
     "shell.execute_reply": "2025-01-22T06:35:29.591510Z",
     "shell.execute_reply.started": "2025-01-22T06:35:29.169212Z"
    },
    "trusted": true
   },
   "outputs": [],
   "source": [
    "from torchvision.transforms import RandomResizedCrop, Compose, Normalize, ToTensor\n",
    "\n",
    "image_processor = AutoImageProcessor.from_pretrained(model_ckpt, use_fast=True)\n",
    "normalize = Normalize(mean=image_processor.image_mean, std=image_processor.image_std)"
   ]
  },
  {
   "cell_type": "code",
   "execution_count": 12,
   "metadata": {
    "execution": {
     "iopub.execute_input": "2025-01-22T06:35:29.595353Z",
     "iopub.status.busy": "2025-01-22T06:35:29.595104Z",
     "iopub.status.idle": "2025-01-22T06:35:29.600190Z",
     "shell.execute_reply": "2025-01-22T06:35:29.599438Z",
     "shell.execute_reply.started": "2025-01-22T06:35:29.595332Z"
    },
    "trusted": true
   },
   "outputs": [
    {
     "data": {
      "text/plain": [
       "ViTImageProcessorFast {\n",
       "  \"do_convert_rgb\": null,\n",
       "  \"do_normalize\": true,\n",
       "  \"do_rescale\": true,\n",
       "  \"do_resize\": true,\n",
       "  \"image_mean\": [\n",
       "    0.5,\n",
       "    0.5,\n",
       "    0.5\n",
       "  ],\n",
       "  \"image_processor_type\": \"ViTImageProcessorFast\",\n",
       "  \"image_std\": [\n",
       "    0.5,\n",
       "    0.5,\n",
       "    0.5\n",
       "  ],\n",
       "  \"resample\": 2,\n",
       "  \"rescale_factor\": 0.00392156862745098,\n",
       "  \"size\": {\n",
       "    \"height\": 224,\n",
       "    \"width\": 224\n",
       "  }\n",
       "}"
      ]
     },
     "execution_count": 12,
     "metadata": {},
     "output_type": "execute_result"
    }
   ],
   "source": [
    "image_processor"
   ]
  },
  {
   "cell_type": "code",
   "execution_count": 13,
   "metadata": {
    "execution": {
     "iopub.execute_input": "2025-01-22T06:35:29.601987Z",
     "iopub.status.busy": "2025-01-22T06:35:29.601714Z",
     "iopub.status.idle": "2025-01-22T06:35:29.615087Z",
     "shell.execute_reply": "2025-01-22T06:35:29.614378Z",
     "shell.execute_reply.started": "2025-01-22T06:35:29.601966Z"
    },
    "trusted": true
   },
   "outputs": [],
   "source": [
    "size = (image_processor.size['shortest_edge'] if 'shortest_edge' in image_processor.size else (image_processor.size['height'], image_processor.size['width']))"
   ]
  },
  {
   "cell_type": "code",
   "execution_count": 14,
   "metadata": {
    "execution": {
     "iopub.execute_input": "2025-01-22T06:35:29.616183Z",
     "iopub.status.busy": "2025-01-22T06:35:29.615937Z",
     "iopub.status.idle": "2025-01-22T06:35:29.633531Z",
     "shell.execute_reply": "2025-01-22T06:35:29.632832Z",
     "shell.execute_reply.started": "2025-01-22T06:35:29.616133Z"
    },
    "trusted": true
   },
   "outputs": [],
   "source": [
    "_transforms = Compose([RandomResizedCrop(size), ToTensor(), normalize])"
   ]
  },
  {
   "cell_type": "code",
   "execution_count": 15,
   "metadata": {
    "execution": {
     "iopub.execute_input": "2025-01-22T06:35:29.634640Z",
     "iopub.status.busy": "2025-01-22T06:35:29.634410Z",
     "iopub.status.idle": "2025-01-22T06:35:29.647884Z",
     "shell.execute_reply": "2025-01-22T06:35:29.647111Z",
     "shell.execute_reply.started": "2025-01-22T06:35:29.634620Z"
    },
    "trusted": true
   },
   "outputs": [],
   "source": [
    "def transforms(batch):\n",
    "    batch['pixel_values'] = [_transforms(img.convert('RGB')) for img in batch['image']]\n",
    "    del batch['image']\n",
    "    return batch"
   ]
  },
  {
   "cell_type": "code",
   "execution_count": 16,
   "metadata": {
    "execution": {
     "iopub.execute_input": "2025-01-22T06:35:29.648836Z",
     "iopub.status.busy": "2025-01-22T06:35:29.648633Z",
     "iopub.status.idle": "2025-01-22T06:35:29.668084Z",
     "shell.execute_reply": "2025-01-22T06:35:29.667369Z",
     "shell.execute_reply.started": "2025-01-22T06:35:29.648818Z"
    },
    "trusted": true
   },
   "outputs": [],
   "source": [
    "dataset = dataset.with_transform(transforms)"
   ]
  },
  {
   "cell_type": "code",
   "execution_count": 17,
   "metadata": {
    "execution": {
     "iopub.execute_input": "2025-01-22T06:35:29.669111Z",
     "iopub.status.busy": "2025-01-22T06:35:29.668905Z",
     "iopub.status.idle": "2025-01-22T06:35:33.197742Z",
     "shell.execute_reply": "2025-01-22T06:35:33.196699Z",
     "shell.execute_reply.started": "2025-01-22T06:35:29.669093Z"
    },
    "trusted": true
   },
   "outputs": [
    {
     "name": "stdout",
     "output_type": "stream",
     "text": [
      "Requirement already satisfied: evaluate in /usr/local/lib/python3.10/dist-packages (0.4.3)\n",
      "Requirement already satisfied: datasets>=2.0.0 in /usr/local/lib/python3.10/dist-packages (from evaluate) (3.2.0)\n",
      "Requirement already satisfied: numpy>=1.17 in /usr/local/lib/python3.10/dist-packages (from evaluate) (1.26.4)\n",
      "Requirement already satisfied: dill in /usr/local/lib/python3.10/dist-packages (from evaluate) (0.3.8)\n",
      "Requirement already satisfied: pandas in /usr/local/lib/python3.10/dist-packages (from evaluate) (2.2.2)\n",
      "Requirement already satisfied: requests>=2.19.0 in /usr/local/lib/python3.10/dist-packages (from evaluate) (2.32.3)\n",
      "Requirement already satisfied: tqdm>=4.62.1 in /usr/local/lib/python3.10/dist-packages (from evaluate) (4.67.1)\n",
      "Requirement already satisfied: xxhash in /usr/local/lib/python3.10/dist-packages (from evaluate) (3.5.0)\n",
      "Requirement already satisfied: multiprocess in /usr/local/lib/python3.10/dist-packages (from evaluate) (0.70.16)\n",
      "Requirement already satisfied: fsspec>=2021.05.0 in /usr/local/lib/python3.10/dist-packages (from fsspec[http]>=2021.05.0->evaluate) (2024.9.0)\n",
      "Requirement already satisfied: huggingface-hub>=0.7.0 in /usr/local/lib/python3.10/dist-packages (from evaluate) (0.27.0)\n",
      "Requirement already satisfied: packaging in /usr/local/lib/python3.10/dist-packages (from evaluate) (24.2)\n",
      "Requirement already satisfied: filelock in /usr/local/lib/python3.10/dist-packages (from datasets>=2.0.0->evaluate) (3.16.1)\n",
      "Requirement already satisfied: pyarrow>=15.0.0 in /usr/local/lib/python3.10/dist-packages (from datasets>=2.0.0->evaluate) (17.0.0)\n",
      "Requirement already satisfied: aiohttp in /usr/local/lib/python3.10/dist-packages (from datasets>=2.0.0->evaluate) (3.11.10)\n",
      "Requirement already satisfied: pyyaml>=5.1 in /usr/local/lib/python3.10/dist-packages (from datasets>=2.0.0->evaluate) (6.0.2)\n",
      "Requirement already satisfied: typing-extensions>=3.7.4.3 in /usr/local/lib/python3.10/dist-packages (from huggingface-hub>=0.7.0->evaluate) (4.12.2)\n",
      "Requirement already satisfied: mkl_fft in /usr/local/lib/python3.10/dist-packages (from numpy>=1.17->evaluate) (1.3.8)\n",
      "Requirement already satisfied: mkl_random in /usr/local/lib/python3.10/dist-packages (from numpy>=1.17->evaluate) (1.2.4)\n",
      "Requirement already satisfied: mkl_umath in /usr/local/lib/python3.10/dist-packages (from numpy>=1.17->evaluate) (0.1.1)\n",
      "Requirement already satisfied: mkl in /usr/local/lib/python3.10/dist-packages (from numpy>=1.17->evaluate) (2025.0.1)\n",
      "Requirement already satisfied: tbb4py in /usr/local/lib/python3.10/dist-packages (from numpy>=1.17->evaluate) (2022.0.0)\n",
      "Requirement already satisfied: mkl-service in /usr/local/lib/python3.10/dist-packages (from numpy>=1.17->evaluate) (2.4.1)\n",
      "Requirement already satisfied: charset-normalizer<4,>=2 in /usr/local/lib/python3.10/dist-packages (from requests>=2.19.0->evaluate) (3.4.0)\n",
      "Requirement already satisfied: idna<4,>=2.5 in /usr/local/lib/python3.10/dist-packages (from requests>=2.19.0->evaluate) (3.10)\n",
      "Requirement already satisfied: urllib3<3,>=1.21.1 in /usr/local/lib/python3.10/dist-packages (from requests>=2.19.0->evaluate) (2.2.3)\n",
      "Requirement already satisfied: certifi>=2017.4.17 in /usr/local/lib/python3.10/dist-packages (from requests>=2.19.0->evaluate) (2024.12.14)\n",
      "Requirement already satisfied: python-dateutil>=2.8.2 in /usr/local/lib/python3.10/dist-packages (from pandas->evaluate) (2.8.2)\n",
      "Requirement already satisfied: pytz>=2020.1 in /usr/local/lib/python3.10/dist-packages (from pandas->evaluate) (2024.2)\n",
      "Requirement already satisfied: tzdata>=2022.7 in /usr/local/lib/python3.10/dist-packages (from pandas->evaluate) (2024.2)\n",
      "Requirement already satisfied: aiohappyeyeballs>=2.3.0 in /usr/local/lib/python3.10/dist-packages (from aiohttp->datasets>=2.0.0->evaluate) (2.4.4)\n",
      "Requirement already satisfied: aiosignal>=1.1.2 in /usr/local/lib/python3.10/dist-packages (from aiohttp->datasets>=2.0.0->evaluate) (1.3.2)\n",
      "Requirement already satisfied: async-timeout<6.0,>=4.0 in /usr/local/lib/python3.10/dist-packages (from aiohttp->datasets>=2.0.0->evaluate) (4.0.3)\n",
      "Requirement already satisfied: attrs>=17.3.0 in /usr/local/lib/python3.10/dist-packages (from aiohttp->datasets>=2.0.0->evaluate) (24.3.0)\n",
      "Requirement already satisfied: frozenlist>=1.1.1 in /usr/local/lib/python3.10/dist-packages (from aiohttp->datasets>=2.0.0->evaluate) (1.5.0)\n",
      "Requirement already satisfied: multidict<7.0,>=4.5 in /usr/local/lib/python3.10/dist-packages (from aiohttp->datasets>=2.0.0->evaluate) (6.1.0)\n",
      "Requirement already satisfied: propcache>=0.2.0 in /usr/local/lib/python3.10/dist-packages (from aiohttp->datasets>=2.0.0->evaluate) (0.2.1)\n",
      "Requirement already satisfied: yarl<2.0,>=1.17.0 in /usr/local/lib/python3.10/dist-packages (from aiohttp->datasets>=2.0.0->evaluate) (1.18.3)\n",
      "Requirement already satisfied: six>=1.5 in /usr/local/lib/python3.10/dist-packages (from python-dateutil>=2.8.2->pandas->evaluate) (1.17.0)\n",
      "Requirement already satisfied: intel-openmp>=2024 in /usr/local/lib/python3.10/dist-packages (from mkl->numpy>=1.17->evaluate) (2024.2.0)\n",
      "Requirement already satisfied: tbb==2022.* in /usr/local/lib/python3.10/dist-packages (from mkl->numpy>=1.17->evaluate) (2022.0.0)\n",
      "Requirement already satisfied: tcmlib==1.* in /usr/local/lib/python3.10/dist-packages (from tbb==2022.*->mkl->numpy>=1.17->evaluate) (1.2.0)\n",
      "Requirement already satisfied: intel-cmplr-lib-rt in /usr/local/lib/python3.10/dist-packages (from mkl_umath->numpy>=1.17->evaluate) (2024.2.0)\n",
      "Requirement already satisfied: intel-cmplr-lib-ur==2024.2.0 in /usr/local/lib/python3.10/dist-packages (from intel-openmp>=2024->mkl->numpy>=1.17->evaluate) (2024.2.0)\n",
      "Note: you may need to restart the kernel to use updated packages.\n"
     ]
    }
   ],
   "source": [
    "%pip install evaluate"
   ]
  },
  {
   "cell_type": "code",
   "execution_count": 18,
   "metadata": {
    "execution": {
     "iopub.execute_input": "2025-01-22T06:35:33.199319Z",
     "iopub.status.busy": "2025-01-22T06:35:33.198940Z",
     "iopub.status.idle": "2025-01-22T06:35:33.764576Z",
     "shell.execute_reply": "2025-01-22T06:35:33.763892Z",
     "shell.execute_reply.started": "2025-01-22T06:35:33.199260Z"
    },
    "trusted": true
   },
   "outputs": [],
   "source": [
    "import evaluate\n",
    "import numpy as np\n",
    "\n",
    "accuracy = evaluate.load(\"accuracy\")\n",
    "\n",
    "def compute_metrics(eval_pred):\n",
    "    predictions, labels = eval_pred\n",
    "    predictions = np.argmax(predictions, axis=1)\n",
    "    return accuracy.compute(predictions=predictions, references=labels)"
   ]
  },
  {
   "cell_type": "code",
   "execution_count": 19,
   "metadata": {
    "execution": {
     "iopub.execute_input": "2025-01-22T06:35:33.765644Z",
     "iopub.status.busy": "2025-01-22T06:35:33.765358Z",
     "iopub.status.idle": "2025-01-22T06:35:34.389541Z",
     "shell.execute_reply": "2025-01-22T06:35:34.388837Z",
     "shell.execute_reply.started": "2025-01-22T06:35:33.765613Z"
    },
    "trusted": true
   },
   "outputs": [],
   "source": [
    "from transformers import AutoModelForImageClassification, TrainingArguments, Trainer\n",
    "import torch\n",
    "\n",
    "device = torch.device('cuda') if torch.cuda.is_available() else torch.device('cpu')"
   ]
  },
  {
   "cell_type": "code",
   "execution_count": 20,
   "metadata": {
    "execution": {
     "iopub.execute_input": "2025-01-22T06:35:34.390449Z",
     "iopub.status.busy": "2025-01-22T06:35:34.390200Z",
     "iopub.status.idle": "2025-01-22T06:35:35.054284Z",
     "shell.execute_reply": "2025-01-22T06:35:35.053607Z",
     "shell.execute_reply.started": "2025-01-22T06:35:34.390428Z"
    },
    "trusted": true
   },
   "outputs": [
    {
     "name": "stderr",
     "output_type": "stream",
     "text": [
      "Some weights of ViTForImageClassification were not initialized from the model checkpoint at google/vit-base-patch16-224-in21k and are newly initialized: ['classifier.bias', 'classifier.weight']\n",
      "You should probably TRAIN this model on a down-stream task to be able to use it for predictions and inference.\n"
     ]
    }
   ],
   "source": [
    "model = AutoModelForImageClassification.from_pretrained(\n",
    "    model_ckpt,\n",
    "    num_labels = len(labels),\n",
    "    id2label = id2label,\n",
    "    label2id = label2id,\n",
    "    ).to(device)"
   ]
  },
  {
   "cell_type": "code",
   "execution_count": 21,
   "metadata": {
    "execution": {
     "iopub.execute_input": "2025-01-22T06:35:35.055331Z",
     "iopub.status.busy": "2025-01-22T06:35:35.055077Z",
     "iopub.status.idle": "2025-01-22T06:35:35.086305Z",
     "shell.execute_reply": "2025-01-22T06:35:35.085660Z",
     "shell.execute_reply.started": "2025-01-22T06:35:35.055278Z"
    },
    "trusted": true
   },
   "outputs": [
    {
     "name": "stderr",
     "output_type": "stream",
     "text": [
      "Using the `WANDB_DISABLED` environment variable is deprecated and will be removed in v5. Use the --report_to flag to control the integrations used for logging result (for instance --report_to none).\n"
     ]
    }
   ],
   "source": [
    "args = TrainingArguments(\n",
    "    output_dir='train_dir',\n",
    "    remove_unused_columns=False,\n",
    "    eval_strategy='epoch',\n",
    "    save_strategy='epoch',\n",
    "    learning_rate=2e-5,\n",
    "    per_device_train_batch_size=16,\n",
    "    per_device_eval_batch_size=16,\n",
    "    num_train_epochs=5,\n",
    "    load_best_model_at_end=True,\n",
    "    metric_for_best_model='accuracy'\n",
    ")"
   ]
  },
  {
   "cell_type": "code",
   "execution_count": 22,
   "metadata": {
    "execution": {
     "iopub.execute_input": "2025-01-22T06:35:35.087247Z",
     "iopub.status.busy": "2025-01-22T06:35:35.087029Z",
     "iopub.status.idle": "2025-01-22T06:35:35.136233Z",
     "shell.execute_reply": "2025-01-22T06:35:35.135377Z",
     "shell.execute_reply.started": "2025-01-22T06:35:35.087227Z"
    },
    "trusted": true
   },
   "outputs": [],
   "source": [
    "trainer = Trainer(\n",
    "    model=model,\n",
    "    args=args,\n",
    "    train_dataset=dataset['train'],\n",
    "    eval_dataset=dataset['test'],\n",
    "    compute_metrics=compute_metrics,\n",
    "    tokenizer=image_processor\n",
    ")"
   ]
  },
  {
   "cell_type": "code",
   "execution_count": 23,
   "metadata": {
    "execution": {
     "iopub.execute_input": "2025-01-22T06:35:35.137478Z",
     "iopub.status.busy": "2025-01-22T06:35:35.137153Z",
     "iopub.status.idle": "2025-01-22T06:55:45.022538Z",
     "shell.execute_reply": "2025-01-22T06:55:45.021824Z",
     "shell.execute_reply.started": "2025-01-22T06:35:35.137447Z"
    },
    "trusted": true
   },
   "outputs": [
    {
     "data": {
      "text/html": [
       "\n",
       "    <div>\n",
       "      \n",
       "      <progress value='3150' max='3150' style='width:300px; height:20px; vertical-align: middle;'></progress>\n",
       "      [3150/3150 20:08, Epoch 5/5]\n",
       "    </div>\n",
       "    <table border=\"1\" class=\"dataframe\">\n",
       "  <thead>\n",
       " <tr style=\"text-align: left;\">\n",
       "      <th>Epoch</th>\n",
       "      <th>Training Loss</th>\n",
       "      <th>Validation Loss</th>\n",
       "      <th>Accuracy</th>\n",
       "    </tr>\n",
       "  </thead>\n",
       "  <tbody>\n",
       "    <tr>\n",
       "      <td>1</td>\n",
       "      <td>1.987600</td>\n",
       "      <td>1.339990</td>\n",
       "      <td>0.720238</td>\n",
       "    </tr>\n",
       "    <tr>\n",
       "      <td>2</td>\n",
       "      <td>1.231600</td>\n",
       "      <td>1.061653</td>\n",
       "      <td>0.746825</td>\n",
       "    </tr>\n",
       "    <tr>\n",
       "      <td>3</td>\n",
       "      <td>0.989200</td>\n",
       "      <td>0.947046</td>\n",
       "      <td>0.757937</td>\n",
       "    </tr>\n",
       "    <tr>\n",
       "      <td>4</td>\n",
       "      <td>0.817600</td>\n",
       "      <td>0.903578</td>\n",
       "      <td>0.765873</td>\n",
       "    </tr>\n",
       "    <tr>\n",
       "      <td>5</td>\n",
       "      <td>0.770600</td>\n",
       "      <td>0.852050</td>\n",
       "      <td>0.776984</td>\n",
       "    </tr>\n",
       "  </tbody>\n",
       "</table><p>"
      ],
      "text/plain": [
       "<IPython.core.display.HTML object>"
      ]
     },
     "metadata": {},
     "output_type": "display_data"
    },
    {
     "data": {
      "text/plain": [
       "TrainOutput(global_step=3150, training_loss=1.0965038045247395, metrics={'train_runtime': 1209.5534, 'train_samples_per_second': 41.668, 'train_steps_per_second': 2.604, 'total_flos': 3.906051336688435e+18, 'train_loss': 1.0965038045247395, 'epoch': 5.0})"
      ]
     },
     "execution_count": 23,
     "metadata": {},
     "output_type": "execute_result"
    }
   ],
   "source": [
    "trainer.train()"
   ]
  },
  {
   "cell_type": "code",
   "execution_count": 24,
   "metadata": {
    "execution": {
     "iopub.execute_input": "2025-01-22T06:55:45.023553Z",
     "iopub.status.busy": "2025-01-22T06:55:45.023279Z",
     "iopub.status.idle": "2025-01-22T06:56:05.233383Z",
     "shell.execute_reply": "2025-01-22T06:56:05.232654Z",
     "shell.execute_reply.started": "2025-01-22T06:55:45.023532Z"
    },
    "trusted": true
   },
   "outputs": [
    {
     "data": {
      "text/html": [],
      "text/plain": [
       "<IPython.core.display.HTML object>"
      ]
     },
     "metadata": {},
     "output_type": "display_data"
    },
    {
     "data": {
      "text/plain": [
       "{'eval_loss': 0.8714157938957214,\n",
       " 'eval_accuracy': 0.7761904761904762,\n",
       " 'eval_runtime': 20.2031,\n",
       " 'eval_samples_per_second': 124.733,\n",
       " 'eval_steps_per_second': 7.821,\n",
       " 'epoch': 5.0}"
      ]
     },
     "execution_count": 24,
     "metadata": {},
     "output_type": "execute_result"
    }
   ],
   "source": [
    "trainer.evaluate()"
   ]
  },
  {
   "cell_type": "code",
   "execution_count": 25,
   "metadata": {
    "execution": {
     "iopub.execute_input": "2025-01-22T06:56:05.234351Z",
     "iopub.status.busy": "2025-01-22T06:56:05.234109Z",
     "iopub.status.idle": "2025-01-22T06:56:05.992769Z",
     "shell.execute_reply": "2025-01-22T06:56:05.992058Z",
     "shell.execute_reply.started": "2025-01-22T06:56:05.234330Z"
    },
    "trusted": true
   },
   "outputs": [],
   "source": [
    "trainer.save_model('vit-human-pose-classification')"
   ]
  },
  {
   "cell_type": "code",
   "execution_count": 26,
   "metadata": {
    "execution": {
     "iopub.execute_input": "2025-01-22T07:28:30.430936Z",
     "iopub.status.busy": "2025-01-22T07:28:30.430580Z",
     "iopub.status.idle": "2025-01-22T07:28:47.166889Z",
     "shell.execute_reply": "2025-01-22T07:28:47.166089Z",
     "shell.execute_reply.started": "2025-01-22T07:28:30.430908Z"
    },
    "trusted": true
   },
   "outputs": [
    {
     "data": {
      "text/plain": [
       "'vit-human-pose-classification.zip'"
      ]
     },
     "execution_count": 26,
     "metadata": {},
     "output_type": "execute_result"
    }
   ],
   "source": [
    "import shutil\n",
    "\n",
    "# Define the training directory and output zip file\n",
    "train_dir = \"vit-human-pose-classification\"  # Replace with your actual training directory path\n",
    "output_zip = \"vit-human-pose-classification.zip\"\n",
    "\n",
    "# Create a zip file of the training directory\n",
    "shutil.make_archive(base_name=output_zip.replace('.zip', ''), format='zip', root_dir=train_dir)\n",
    "\n",
    "output_zip"
   ]
  },
  {
   "cell_type": "code",
   "execution_count": 27,
   "metadata": {
    "execution": {
     "iopub.execute_input": "2025-01-22T07:29:21.930658Z",
     "iopub.status.busy": "2025-01-22T07:29:21.930275Z",
     "iopub.status.idle": "2025-01-22T07:33:31.832241Z",
     "shell.execute_reply": "2025-01-22T07:33:31.831497Z",
     "shell.execute_reply.started": "2025-01-22T07:29:21.930629Z"
    },
    "trusted": true
   },
   "outputs": [
    {
     "data": {
      "text/plain": [
       "'train_dir.zip'"
      ]
     },
     "execution_count": 27,
     "metadata": {},
     "output_type": "execute_result"
    }
   ],
   "source": [
    "import shutil\n",
    "\n",
    "# Define the training directory and output zip file\n",
    "train_dir = \"train_dir\"  # Replace with your actual training directory path\n",
    "output_zip = \"train_dir.zip\"\n",
    "\n",
    "# Create a zip file of the training directory\n",
    "shutil.make_archive(base_name=output_zip.replace('.zip', ''), format='zip', root_dir=train_dir)\n",
    "\n",
    "output_zip"
   ]
  },
  {
   "cell_type": "code",
   "execution_count": 31,
   "metadata": {
    "execution": {
     "iopub.execute_input": "2025-01-22T07:37:57.165633Z",
     "iopub.status.busy": "2025-01-22T07:37:57.165327Z",
     "iopub.status.idle": "2025-01-22T07:37:57.357832Z",
     "shell.execute_reply": "2025-01-22T07:37:57.356924Z",
     "shell.execute_reply.started": "2025-01-22T07:37:57.165610Z"
    },
    "trusted": true
   },
   "outputs": [],
   "source": [
    "from sklearn.metrics import classification_report, confusion_matrix\n",
    "import seaborn as sns\n",
    "import matplotlib.pyplot as plt"
   ]
  },
  {
   "cell_type": "code",
   "execution_count": 38,
   "metadata": {
    "execution": {
     "iopub.execute_input": "2025-01-22T07:40:36.212091Z",
     "iopub.status.busy": "2025-01-22T07:40:36.211761Z",
     "iopub.status.idle": "2025-01-22T07:40:55.985025Z",
     "shell.execute_reply": "2025-01-22T07:40:55.984358Z",
     "shell.execute_reply.started": "2025-01-22T07:40:36.212065Z"
    },
    "trusted": true
   },
   "outputs": [
    {
     "data": {
      "text/html": [],
      "text/plain": [
       "<IPython.core.display.HTML object>"
      ]
     },
     "metadata": {},
     "output_type": "display_data"
    }
   ],
   "source": [
    "logits = trainer.predict(dataset['test'])"
   ]
  },
  {
   "cell_type": "code",
   "execution_count": 39,
   "metadata": {
    "execution": {
     "iopub.execute_input": "2025-01-22T07:40:55.986483Z",
     "iopub.status.busy": "2025-01-22T07:40:55.986110Z",
     "iopub.status.idle": "2025-01-22T07:40:55.991830Z",
     "shell.execute_reply": "2025-01-22T07:40:55.991120Z",
     "shell.execute_reply.started": "2025-01-22T07:40:55.986447Z"
    },
    "trusted": true
   },
   "outputs": [
    {
     "data": {
      "text/plain": [
       "PredictionOutput(predictions=array([[-0.36067674, -0.45081326, -0.13598554, ..., -0.8834459 ,\n",
       "         0.10522716, -0.35764772],\n",
       "       [ 0.08543608, -0.35590225, -0.23691447, ..., -0.380479  ,\n",
       "        -0.19956672, -0.33243367],\n",
       "       [-0.766429  ,  1.9175134 , -0.2987404 , ..., -0.53857625,\n",
       "        -0.924078  , -0.62882835],\n",
       "       ...,\n",
       "       [-0.17755547, -0.36854315,  0.71006215, ...,  0.0349819 ,\n",
       "        -0.25104418, -0.52071846],\n",
       "       [ 0.328961  ,  0.3875214 , -0.89255595, ..., -0.48819536,\n",
       "        -0.18755604, -0.29178935],\n",
       "       [ 1.4278389 ,  0.07719024, -0.74769074, ..., -0.14752218,\n",
       "        -0.03326418,  3.077651  ]], dtype=float32), label_ids=array([ 3,  4,  1, ..., 12, 12, 14]), metrics={'test_loss': 0.8789132237434387, 'test_accuracy': 0.7702380952380953, 'test_runtime': 19.767, 'test_samples_per_second': 127.485, 'test_steps_per_second': 7.993})"
      ]
     },
     "execution_count": 39,
     "metadata": {},
     "output_type": "execute_result"
    }
   ],
   "source": [
    "logits"
   ]
  },
  {
   "cell_type": "code",
   "execution_count": 40,
   "metadata": {
    "execution": {
     "iopub.execute_input": "2025-01-22T07:40:55.993260Z",
     "iopub.status.busy": "2025-01-22T07:40:55.993053Z",
     "iopub.status.idle": "2025-01-22T07:40:56.008607Z",
     "shell.execute_reply": "2025-01-22T07:40:56.007866Z",
     "shell.execute_reply.started": "2025-01-22T07:40:55.993241Z"
    },
    "trusted": true
   },
   "outputs": [],
   "source": [
    "logits = logits.predictions"
   ]
  },
  {
   "cell_type": "code",
   "execution_count": 41,
   "metadata": {
    "execution": {
     "iopub.execute_input": "2025-01-22T07:40:56.009586Z",
     "iopub.status.busy": "2025-01-22T07:40:56.009385Z",
     "iopub.status.idle": "2025-01-22T07:40:56.024462Z",
     "shell.execute_reply": "2025-01-22T07:40:56.023756Z",
     "shell.execute_reply.started": "2025-01-22T07:40:56.009558Z"
    },
    "trusted": true
   },
   "outputs": [],
   "source": [
    "y_pred = np.argmax(logits, axis = 1)"
   ]
  },
  {
   "cell_type": "code",
   "execution_count": 42,
   "metadata": {
    "execution": {
     "iopub.execute_input": "2025-01-22T07:40:56.025363Z",
     "iopub.status.busy": "2025-01-22T07:40:56.025097Z",
     "iopub.status.idle": "2025-01-22T07:40:56.040516Z",
     "shell.execute_reply": "2025-01-22T07:40:56.039748Z",
     "shell.execute_reply.started": "2025-01-22T07:40:56.025326Z"
    },
    "trusted": true
   },
   "outputs": [
    {
     "data": {
      "text/plain": [
       "array([10,  9,  3, ...,  6,  8, 14])"
      ]
     },
     "execution_count": 42,
     "metadata": {},
     "output_type": "execute_result"
    }
   ],
   "source": [
    "y_pred"
   ]
  },
  {
   "cell_type": "code",
   "execution_count": 49,
   "metadata": {
    "execution": {
     "iopub.execute_input": "2025-01-22T07:44:29.613410Z",
     "iopub.status.busy": "2025-01-22T07:44:29.613093Z",
     "iopub.status.idle": "2025-01-22T07:44:34.506679Z",
     "shell.execute_reply": "2025-01-22T07:44:34.505607Z",
     "shell.execute_reply.started": "2025-01-22T07:44:29.613385Z"
    },
    "trusted": true
   },
   "outputs": [],
   "source": [
    "y_true = [x['labels'] for x in dataset['test']]"
   ]
  },
  {
   "cell_type": "code",
   "execution_count": 51,
   "metadata": {
    "execution": {
     "iopub.execute_input": "2025-01-22T07:45:57.398765Z",
     "iopub.status.busy": "2025-01-22T07:45:57.398441Z",
     "iopub.status.idle": "2025-01-22T07:45:57.415344Z",
     "shell.execute_reply": "2025-01-22T07:45:57.414474Z",
     "shell.execute_reply.started": "2025-01-22T07:45:57.398740Z"
    },
    "trusted": true
   },
   "outputs": [
    {
     "name": "stdout",
     "output_type": "stream",
     "text": [
      "              precision    recall  f1-score   support\n",
      "\n",
      "           0       0.63      0.61      0.62       170\n",
      "           1       0.82      0.77      0.80       168\n",
      "           2       0.91      0.96      0.94       168\n",
      "           3       0.85      0.80      0.82       165\n",
      "           4       0.86      0.81      0.83       168\n",
      "           5       0.83      0.89      0.86       170\n",
      "           6       0.80      0.90      0.85       179\n",
      "           7       0.78      0.80      0.79       184\n",
      "           8       0.74      0.77      0.75       148\n",
      "           9       0.73      0.63      0.68       159\n",
      "          10       0.82      0.89      0.85       146\n",
      "          11       0.59      0.54      0.57       180\n",
      "          12       0.84      0.82      0.83       158\n",
      "          13       0.65      0.64      0.65       177\n",
      "          14       0.70      0.74      0.72       180\n",
      "\n",
      "    accuracy                           0.77      2520\n",
      "   macro avg       0.77      0.77      0.77      2520\n",
      "weighted avg       0.77      0.77      0.77      2520\n",
      "\n"
     ]
    }
   ],
   "source": [
    "print(classification_report(y_true, y_pred))"
   ]
  },
  {
   "cell_type": "code",
   "execution_count": 52,
   "metadata": {
    "execution": {
     "iopub.execute_input": "2025-01-22T07:46:35.149965Z",
     "iopub.status.busy": "2025-01-22T07:46:35.149639Z",
     "iopub.status.idle": "2025-01-22T07:46:35.164562Z",
     "shell.execute_reply": "2025-01-22T07:46:35.163665Z",
     "shell.execute_reply.started": "2025-01-22T07:46:35.149936Z"
    },
    "trusted": true
   },
   "outputs": [
    {
     "name": "stdout",
     "output_type": "stream",
     "text": [
      "                    precision    recall  f1-score   support\n",
      "\n",
      "           calling       0.63      0.61      0.62       170\n",
      "          clapping       0.82      0.77      0.80       168\n",
      "           cycling       0.91      0.96      0.94       168\n",
      "           dancing       0.85      0.80      0.82       165\n",
      "          drinking       0.86      0.81      0.83       168\n",
      "            eating       0.83      0.89      0.86       170\n",
      "          fighting       0.80      0.90      0.85       179\n",
      "           hugging       0.78      0.80      0.79       184\n",
      "          laughing       0.74      0.77      0.75       148\n",
      "listening_to_music       0.73      0.63      0.68       159\n",
      "           running       0.82      0.89      0.85       146\n",
      "           sitting       0.59      0.54      0.57       180\n",
      "          sleeping       0.84      0.82      0.83       158\n",
      "           texting       0.65      0.64      0.65       177\n",
      "      using_laptop       0.70      0.74      0.72       180\n",
      "\n",
      "          accuracy                           0.77      2520\n",
      "         macro avg       0.77      0.77      0.77      2520\n",
      "      weighted avg       0.77      0.77      0.77      2520\n",
      "\n"
     ]
    }
   ],
   "source": [
    "print(classification_report(y_true, y_pred, target_names=labels))"
   ]
  },
  {
   "cell_type": "code",
   "execution_count": 56,
   "metadata": {
    "execution": {
     "iopub.execute_input": "2025-01-22T07:49:35.731497Z",
     "iopub.status.busy": "2025-01-22T07:49:35.731117Z",
     "iopub.status.idle": "2025-01-22T07:49:36.334111Z",
     "shell.execute_reply": "2025-01-22T07:49:36.333197Z",
     "shell.execute_reply.started": "2025-01-22T07:49:35.731463Z"
    },
    "trusted": true
   },
   "outputs": [
    {
     "data": {
      "text/plain": [
       "<Axes: >"
      ]
     },
     "execution_count": 56,
     "metadata": {},
     "output_type": "execute_result"
    },
    {
     "data": {
      "image/png": "[encoded data removed]",
      "text/plain": [
       "<Figure size 500x500 with 1 Axes>"
      ]
     },
     "metadata": {},
     "output_type": "display_data"
    }
   ],
   "source": [
    "cm = confusion_matrix(y_true, y_pred)\n",
    "plt.figure(figsize=(5,5))\n",
    "sns.heatmap(cm, annot=True, xticklabels=label2id.keys(), yticklabels=label2id.keys(), fmt='d', cbar=False, cmap='Reds')"
   ]
  },
  {
   "cell_type": "code",
   "execution_count": 57,
   "metadata": {
    "execution": {
     "iopub.execute_input": "2025-01-22T07:53:23.954432Z",
     "iopub.status.busy": "2025-01-22T07:53:23.954083Z",
     "iopub.status.idle": "2025-01-22T07:53:23.958243Z",
     "shell.execute_reply": "2025-01-22T07:53:23.957376Z",
     "shell.execute_reply.started": "2025-01-22T07:53:23.954406Z"
    },
    "trusted": true
   },
   "outputs": [],
   "source": [
    "from transformers import pipeline, AutoImageProcessor"
   ]
  },
  {
   "cell_type": "code",
   "execution_count": 58,
   "metadata": {
    "execution": {
     "iopub.execute_input": "2025-01-22T07:57:39.186513Z",
     "iopub.status.busy": "2025-01-22T07:57:39.186113Z",
     "iopub.status.idle": "2025-01-22T07:57:39.402900Z",
     "shell.execute_reply": "2025-01-22T07:57:39.401992Z",
     "shell.execute_reply.started": "2025-01-22T07:57:39.186479Z"
    },
    "trusted": true
   },
   "outputs": [
    {
     "name": "stderr",
     "output_type": "stream",
     "text": [
      "Device set to use cuda:0\n"
     ]
    }
   ],
   "source": [
    "pipe = pipeline('image-classification', model='vit-human-pose-classification',image_processor=image_processor)"
   ]
  },
  {
   "cell_type": "code",
   "execution_count": 59,
   "metadata": {
    "execution": {
     "iopub.execute_input": "2025-01-22T07:58:58.026927Z",
     "iopub.status.busy": "2025-01-22T07:58:58.026594Z",
     "iopub.status.idle": "2025-01-22T07:58:58.030801Z",
     "shell.execute_reply": "2025-01-22T07:58:58.029741Z",
     "shell.execute_reply.started": "2025-01-22T07:58:58.026899Z"
    },
    "trusted": true
   },
   "outputs": [],
   "source": [
    "url = \"https://images.pexels.com/photos/1755385/pexels-photo-1755385.jpeg\""
   ]
  },
  {
   "cell_type": "code",
   "execution_count": 61,
   "metadata": {
    "execution": {
     "iopub.execute_input": "2025-01-22T07:59:37.689106Z",
     "iopub.status.busy": "2025-01-22T07:59:37.688813Z",
     "iopub.status.idle": "2025-01-22T07:59:38.734665Z",
     "shell.execute_reply": "2025-01-22T07:59:38.733709Z",
     "shell.execute_reply.started": "2025-01-22T07:59:37.689086Z"
    },
    "trusted": true
   },
   "outputs": [],
   "source": [
    "output = pipe(url)"
   ]
  },
  {
   "cell_type": "code",
   "execution_count": 62,
   "metadata": {
    "execution": {
     "iopub.execute_input": "2025-01-22T07:59:43.794055Z",
     "iopub.status.busy": "2025-01-22T07:59:43.793760Z",
     "iopub.status.idle": "2025-01-22T07:59:43.799121Z",
     "shell.execute_reply": "2025-01-22T07:59:43.798489Z",
     "shell.execute_reply.started": "2025-01-22T07:59:43.794032Z"
    },
    "trusted": true
   },
   "outputs": [
    {
     "data": {
      "text/plain": [
       "[{'label': 'sitting', 'score': 0.9498985409736633},\n",
       " {'label': 'using_laptop', 'score': 0.6536830067634583},\n",
       " {'label': 'running', 'score': 0.612960934638977},\n",
       " {'label': 'sleeping', 'score': 0.5530687570571899},\n",
       " {'label': 'texting', 'score': 0.5404998660087585}]"
      ]
     },
     "execution_count": 62,
     "metadata": {},
     "output_type": "execute_result"
    }
   ],
   "source": [
    "output"
   ]
  }
 ],
 "metadata": {
  "kaggle": {
   "accelerator": "gpu",
   "dataSources": [],
   "dockerImageVersionId": 30840,
   "isGpuEnabled": true,
   "isInternetEnabled": true,
   "language": "python",
   "sourceType": "notebook"
  },
  "kernelspec": {
   "display_name": "awstut",
   "language": "python",
   "name": "python3"
  },
  "language_info": {
   "codemirror_mode": {
    "name": "ipython",
    "version": 3
   },
   "file_extension": ".py",
   "mimetype": "text/x-python",
   "name": "python",
   "nbconvert_exporter": "python",
   "pygments_lexer": "ipython3",
   "version": "3.9.20"
  }
 },
 "nbformat": 4,
 "nbformat_minor": 4
}
